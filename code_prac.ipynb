{
 "cells": [
  {
   "cell_type": "code",
   "execution_count": 1,
   "metadata": {},
   "outputs": [],
   "source": [
    "import torch\n",
    "import torch.nn as nn\n",
    "from torch.nn.modules.module import Module\n",
    "import numpy as np\n",
    "# from .models.normal_head import NormalHead\n",
    "# from .models.translayer import Transformer"
   ]
  },
  {
   "cell_type": "code",
   "execution_count": 2,
   "metadata": {},
   "outputs": [
    {
     "name": "stdout",
     "output_type": "stream",
     "text": [
      "==>> a.shape: torch.Size([3, 4, 2])\n"
     ]
    }
   ],
   "source": [
    "a = torch.randn(3,4,2)\n",
    "print(f\"==>> a.shape: {a.shape}\")"
   ]
  },
  {
   "cell_type": "code",
   "execution_count": 4,
   "metadata": {},
   "outputs": [
    {
     "name": "stdout",
     "output_type": "stream",
     "text": [
      "==>> b: tensor([[[True, True],\n",
      "         [True, True],\n",
      "         [True, True],\n",
      "         [True, True]],\n",
      "\n",
      "        [[True, True],\n",
      "         [True, True],\n",
      "         [True, True],\n",
      "         [True, True]],\n",
      "\n",
      "        [[True, True],\n",
      "         [True, True],\n",
      "         [True, True],\n",
      "         [True, True]]])\n"
     ]
    }
   ],
   "source": [
    "b = torch.full_like(a, True, dtype=torch.bool)\n",
    "print(f\"==>> b: {b}\")"
   ]
  },
  {
   "cell_type": "code",
   "execution_count": 2,
   "metadata": {},
   "outputs": [
    {
     "name": "stdout",
     "output_type": "stream",
     "text": [
      "==>> abn_distance.shape: torch.Size([30, 200])\n"
     ]
    }
   ],
   "source": [
    "abn_distance = torch.randn(30, 200)\n",
    "print(f\"==>> abn_distance.shape: {abn_distance.shape}\")"
   ]
  },
  {
   "cell_type": "code",
   "execution_count": 3,
   "metadata": {},
   "outputs": [
    {
     "name": "stdout",
     "output_type": "stream",
     "text": [
      "==>> mask_select_abnormal_sample.shape: torch.Size([30, 200])\n"
     ]
    },
    {
     "data": {
      "text/plain": [
       "tensor([False, False, False, False, False, False, False, False, False, False])"
      ]
     },
     "execution_count": 3,
     "metadata": {},
     "output_type": "execute_result"
    }
   ],
   "source": [
    "mask_select_abnormal_sample = torch.zeros_like(abn_distance, dtype=torch.bool)\n",
    "print(f\"==>> mask_select_abnormal_sample.shape: {mask_select_abnormal_sample.shape}\")\n",
    "mask_select_abnormal_sample[0, :10]"
   ]
  },
  {
   "cell_type": "code",
   "execution_count": 5,
   "metadata": {},
   "outputs": [
    {
     "name": "stdout",
     "output_type": "stream",
     "text": [
      "==>> topk_abnormal_sample: torch.return_types.topk(\n",
      "values=tensor([[2.9937, 2.3604, 2.0455,  ..., 0.8039, 0.7743, 0.7711],\n",
      "        [2.8203, 2.5688, 2.5275,  ..., 1.0888, 1.0666, 1.0640],\n",
      "        [2.8296, 2.0380, 1.9279,  ..., 0.8469, 0.8440, 0.8312],\n",
      "        ...,\n",
      "        [2.9432, 2.7953, 2.7763,  ..., 1.0149, 0.9712, 0.9599],\n",
      "        [2.5647, 2.1438, 1.9623,  ..., 0.6684, 0.6629, 0.6533],\n",
      "        [2.1054, 2.0460, 2.0309,  ..., 0.7430, 0.6978, 0.6787]]),\n",
      "indices=tensor([[182,  66,  53,  ..., 135,  65,  20],\n",
      "        [155, 163,  33,  ..., 115,  11, 118],\n",
      "        [ 78,  28, 111,  ..., 168,  49,  20],\n",
      "        ...,\n",
      "        [139,  17,  22,  ...,  45, 159,  37],\n",
      "        [ 78, 196,  58,  ..., 102,  83, 132],\n",
      "        [ 34, 146, 101,  ..., 105,  76, 174]]))\n"
     ]
    }
   ],
   "source": [
    "topk_abnormal_sample = torch.topk(abn_distance, int(200*0.2), dim=-1)\n",
    "print(f\"==>> topk_abnormal_sample: {topk_abnormal_sample}\")"
   ]
  },
  {
   "cell_type": "code",
   "execution_count": 6,
   "metadata": {},
   "outputs": [
    {
     "name": "stdout",
     "output_type": "stream",
     "text": [
      "==>> topk_abnormal_sample.shape: torch.Size([30, 40])\n"
     ]
    }
   ],
   "source": [
    "topk_abnormal_sample = torch.topk(abn_distance, int(200*0.2), dim=-1)[1]\n",
    "print(f\"==>> topk_abnormal_sample.shape: {topk_abnormal_sample.shape}\")"
   ]
  },
  {
   "cell_type": "code",
   "execution_count": 8,
   "metadata": {},
   "outputs": [
    {
     "data": {
      "text/plain": [
       "tensor([182,  66,  53,  15, 157, 102, 178,  47, 113,  21,  74,   3, 136, 143,\n",
       "         55, 150, 146, 139, 193,  45,   5, 183,  60,   0, 191, 140,  78,  32,\n",
       "         34, 130, 149,  77,  52,  58, 116, 148, 169, 135,  65,  20])"
      ]
     },
     "execution_count": 8,
     "metadata": {},
     "output_type": "execute_result"
    }
   ],
   "source": [
    "topk_abnormal_sample[0]"
   ]
  },
  {
   "cell_type": "code",
   "execution_count": 7,
   "metadata": {},
   "outputs": [
    {
     "data": {
      "text/plain": [
       "tensor([ True, False, False,  True, False,  True, False, False, False, False,\n",
       "        False, False, False, False, False,  True, False, False, False, False,\n",
       "         True,  True, False, False, False, False, False, False, False, False,\n",
       "        False, False,  True, False,  True, False, False, False, False, False,\n",
       "        False, False, False, False, False,  True, False,  True, False, False,\n",
       "        False, False,  True,  True, False,  True, False, False,  True, False,\n",
       "         True, False, False, False, False,  True,  True, False, False, False,\n",
       "        False, False, False, False,  True, False, False,  True,  True, False,\n",
       "        False, False, False, False, False, False, False, False, False, False,\n",
       "        False, False, False, False, False, False, False, False, False, False,\n",
       "        False, False,  True, False, False, False, False, False, False, False,\n",
       "        False, False, False,  True, False, False,  True, False, False, False,\n",
       "        False, False, False, False, False, False, False, False, False, False,\n",
       "         True, False, False, False, False,  True,  True, False, False,  True,\n",
       "         True, False, False,  True, False, False,  True, False,  True,  True,\n",
       "         True, False, False, False, False, False, False,  True, False, False,\n",
       "        False, False, False, False, False, False, False, False, False,  True,\n",
       "        False, False, False, False, False, False, False, False,  True, False,\n",
       "        False, False,  True,  True, False, False, False, False, False, False,\n",
       "        False,  True, False,  True, False, False, False, False, False, False])"
      ]
     },
     "execution_count": 7,
     "metadata": {},
     "output_type": "execute_result"
    }
   ],
   "source": [
    "mask_select_abnormal_sample.scatter_(1, topk_abnormal_sample, True)\n",
    "mask_select_abnormal_sample[0]"
   ]
  },
  {
   "cell_type": "code",
   "execution_count": 9,
   "metadata": {},
   "outputs": [
    {
     "name": "stdout",
     "output_type": "stream",
     "text": [
      "==>> mask_select_abnormal_sample.shape: torch.Size([30, 200])\n"
     ]
    }
   ],
   "source": [
    "print(f\"==>> mask_select_abnormal_sample.shape: {mask_select_abnormal_sample.shape}\")"
   ]
  },
  {
   "cell_type": "code",
   "execution_count": 10,
   "metadata": {},
   "outputs": [
    {
     "name": "stdout",
     "output_type": "stream",
     "text": [
      "==>> feats.shape: torch.Size([6000, 16])\n"
     ]
    }
   ],
   "source": [
    "feats = torch.randn(30*200, 512 // 32)\n",
    "print(f\"==>> feats.shape: {feats.shape}\")"
   ]
  },
  {
   "cell_type": "code",
   "execution_count": 11,
   "metadata": {},
   "outputs": [
    {
     "name": "stdout",
     "output_type": "stream",
     "text": [
      "==>> selected_feats.shape: torch.Size([1200, 16])\n"
     ]
    }
   ],
   "source": [
    "selected_feats = feats[mask_select_abnormal_sample.reshape(-1)]\n",
    "# mask_select_abnormal_sample는 True 1200개 False 4800개\n",
    "print(f\"==>> selected_feats.shape: {selected_feats.shape}\")"
   ]
  },
  {
   "cell_type": "code",
   "execution_count": 12,
   "metadata": {},
   "outputs": [
    {
     "name": "stdout",
     "output_type": "stream",
     "text": [
      "==>> t_m.shape: torch.Size([32, 200])\n"
     ]
    }
   ],
   "source": [
    "t_m = torch.mean(torch.randn(32,10,200), dim=1)\n",
    "print(f\"==>> t_m.shape: {t_m.shape}\")"
   ]
  },
  {
   "cell_type": "code",
   "execution_count": 4,
   "metadata": {},
   "outputs": [
    {
     "name": "stdout",
     "output_type": "stream",
     "text": [
      "==>> a: [1 2 3 4 5]\n"
     ]
    }
   ],
   "source": [
    "a = np.array([1,2,3,4,5])\n",
    "print(f\"==>> a: {a}\")"
   ]
  },
  {
   "cell_type": "code",
   "execution_count": 5,
   "metadata": {},
   "outputs": [],
   "source": [
    "np.save(\"test\", a)"
   ]
  },
  {
   "cell_type": "code",
   "execution_count": 6,
   "metadata": {},
   "outputs": [
    {
     "name": "stdout",
     "output_type": "stream",
     "text": [
      "==>> a_l: [1 2 3 4 5]\n"
     ]
    }
   ],
   "source": [
    "a_l = np.load(\"test.npy\")\n",
    "print(f\"==>> a_l: {a_l}\")"
   ]
  },
  {
   "cell_type": "code",
   "execution_count": 7,
   "metadata": {},
   "outputs": [
    {
     "name": "stdout",
     "output_type": "stream",
     "text": [
      "==>> a2: [[1 2 3]\n",
      " [4 5 6]]\n"
     ]
    }
   ],
   "source": [
    "a2 = np.array([[1,2,3],[4,5,6]])\n",
    "print(f\"==>> a2: {a2}\")"
   ]
  },
  {
   "cell_type": "code",
   "execution_count": 8,
   "metadata": {},
   "outputs": [],
   "source": [
    "np.save(\"test\", a2)"
   ]
  },
  {
   "cell_type": "code",
   "execution_count": 9,
   "metadata": {},
   "outputs": [
    {
     "name": "stdout",
     "output_type": "stream",
     "text": [
      "==>> a_l: [[1 2 3]\n",
      " [4 5 6]]\n"
     ]
    }
   ],
   "source": [
    "a_l = np.load(\"test.npy\")\n",
    "print(f\"==>> a_l: {a_l}\")"
   ]
  },
  {
   "cell_type": "code",
   "execution_count": 10,
   "metadata": {},
   "outputs": [
    {
     "name": "stdout",
     "output_type": "stream",
     "text": [
      "==>> tttt.shape: torch.Size([2, 3, 4])\n"
     ]
    }
   ],
   "source": [
    "tttt = torch.randn(2,3,4)\n",
    "print(f\"==>> tttt.shape: {tttt.shape}\")"
   ]
  },
  {
   "cell_type": "code",
   "execution_count": 11,
   "metadata": {},
   "outputs": [
    {
     "name": "stdout",
     "output_type": "stream",
     "text": [
      "==>> ttttt.shape: torch.Size([2, 4])\n"
     ]
    }
   ],
   "source": [
    "ttttt = tttt.mean(dim=1)\n",
    "print(f\"==>> ttttt.shape: {ttttt.shape}\")"
   ]
  },
  {
   "cell_type": "code",
   "execution_count": null,
   "metadata": {},
   "outputs": [],
   "source": []
  }
 ],
 "metadata": {
  "kernelspec": {
   "display_name": "web",
   "language": "python",
   "name": "python3"
  },
  "language_info": {
   "codemirror_mode": {
    "name": "ipython",
    "version": 3
   },
   "file_extension": ".py",
   "mimetype": "text/x-python",
   "name": "python",
   "nbconvert_exporter": "python",
   "pygments_lexer": "ipython3",
   "version": "3.11.5"
  }
 },
 "nbformat": 4,
 "nbformat_minor": 2
}
